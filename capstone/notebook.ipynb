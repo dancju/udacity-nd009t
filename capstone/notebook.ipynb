{
 "cells": [
  {
   "cell_type": "code",
   "execution_count": 1,
   "metadata": {},
   "outputs": [],
   "source": [
    "%matplotlib inline\n",
    "%load_ext autoreload\n",
    "%autoreload 2\n",
    "import os\n",
    "import matplotlib.pyplot as plt\n",
    "import pandas as pd\n",
    "# import sagemaker\n",
    "# from sagemaker.pytorch import PyTorch\n",
    "\n",
    "from src import fetch_bucketed_from_bitmex, preprocess, train, evaluate\n",
    "\n",
    "input_dir = 'cache_input'\n",
    "model_dir = 'cache_model'\n",
    "output_dir = 'cache_output'\n",
    "# role = sagemaker.get_execution_role()\n",
    "# sagemaker_session = sagemaker.Session()\n",
    "# bucket = sagemaker_session.default_bucket()"
   ]
  },
  {
   "cell_type": "markdown",
   "metadata": {},
   "source": [
    "# Crawling the Dataset"
   ]
  },
  {
   "cell_type": "code",
   "execution_count": 2,
   "metadata": {},
   "outputs": [
    {
     "name": "stdout",
     "output_type": "stream",
     "text": [
      ".\n"
     ]
    }
   ],
   "source": [
    "df = fetch_bucketed_from_bitmex('XBTZ19', '1m')"
   ]
  },
  {
   "cell_type": "markdown",
   "metadata": {},
   "source": [
    "# Feature Engineering"
   ]
  },
  {
   "cell_type": "code",
   "execution_count": 3,
   "metadata": {},
   "outputs": [],
   "source": [
    "preprocess(df, input_dir)"
   ]
  },
  {
   "cell_type": "markdown",
   "metadata": {},
   "source": [
    "# Training"
   ]
  },
  {
   "cell_type": "markdown",
   "metadata": {},
   "source": [
    "### Benchmark: Linear Model"
   ]
  },
  {
   "cell_type": "code",
   "execution_count": 2,
   "metadata": {},
   "outputs": [
    {
     "name": "stdout",
     "output_type": "stream",
     "text": [
      "Using device cpu.\n",
      "| epoch | trai loss | vali loss | time/s |\n",
      "| ----: | --------- | --------- | -----: |\n",
      "|     0 | 1.899e-01 | 1.293e+00 |      0 |\n",
      "|     1 | 1.030e-01 | 4.097e-01 |      0 |\n",
      "|     2 | 6.349e-02 | 2.174e-01 |      0 |\n",
      "|     3 | 2.706e-02 | 1.095e-01 |      0 |\n",
      "|     4 | 2.910e-02 | 7.595e-02 |      0 |\n",
      "|     5 | 1.630e-02 | 5.908e-02 |      0 |\n",
      "|     6 | 1.259e-02 | 5.196e-02 |      0 |\n",
      "|     7 | 1.054e-02 | 4.787e-02 |      0 |\n",
      "|     8 | 9.013e-03 | 4.845e-02 |      0 |\n",
      "|     9 | 8.449e-03 | 4.837e-02 |      0 |\n",
      "|    10 | 8.274e-03 | 4.820e-02 |      0 |\n",
      "|    11 | 8.131e-03 | 4.797e-02 |      0 |\n",
      "|    12 | 7.849e-03 | 4.791e-02 |      0 |\n",
      "|    13 | 7.823e-03 | 4.786e-02 |      0 |\n",
      "|    14 | 7.804e-03 | 4.781e-02 |      0 |\n",
      "|    15 | 7.787e-03 | 4.777e-02 |      0 |\n"
     ]
    }
   ],
   "source": [
    "train(\n",
    "    input_dir=input_dir,\n",
    "    output_dir=output_dir,\n",
    "    model_dir=model_dir,\n",
    "    checkpoint_path=None,\n",
    "    # checkpoint_path='cache_output/checkpoint.pth',\n",
    "    model_class=\"linear\",\n",
    ")"
   ]
  },
  {
   "cell_type": "markdown",
   "metadata": {},
   "source": [
    "### Solution: LSTM Model"
   ]
  },
  {
   "cell_type": "code",
   "execution_count": 4,
   "metadata": {},
   "outputs": [],
   "source": [
    "inputs = sagemaker_session.upload_data(\n",
    "    path=input_dir, bucket=bucket, key_prefix=\"lstm-trader\"\n",
    ")"
   ]
  },
  {
   "cell_type": "code",
   "execution_count": 5,
   "metadata": {},
   "outputs": [
    {
     "name": "stdout",
     "output_type": "stream",
     "text": [
      "2019-12-28 09:50:50 Starting - Starting the training job...\n",
      "2019-12-28 09:50:52 Starting - Launching requested ML instances.........\n",
      "2019-12-28 09:52:23 Starting - Preparing the instances for training......\n",
      "2019-12-28 09:53:33 Downloading - Downloading input data......\n",
      "2019-12-28 09:54:33 Training - Downloading the training image...........\u001b[34mbash: cannot set terminal process group (-1): Inappropriate ioctl for device\u001b[0m\n",
      "\u001b[34mbash: no job control in this shell\u001b[0m\n",
      "\u001b[34m2019-12-28 09:56:38,458 sagemaker-containers INFO     Imported framework sagemaker_pytorch_container.training\u001b[0m\n",
      "\u001b[34m2019-12-28 09:56:38,482 sagemaker_pytorch_container.training INFO     Block until all host DNS lookups succeed.\u001b[0m\n",
      "\n",
      "2019-12-28 09:56:37 Training - Training image download completed. Training in progress.\u001b[34m2019-12-28 09:56:44,696 sagemaker_pytorch_container.training INFO     Invoking user training script.\u001b[0m\n",
      "\u001b[34m2019-12-28 09:56:44,962 sagemaker-containers INFO     Module trainer does not provide a setup.py. \u001b[0m\n",
      "\u001b[34mGenerating setup.py\u001b[0m\n",
      "\u001b[34m2019-12-28 09:56:44,962 sagemaker-containers INFO     Generating setup.cfg\u001b[0m\n",
      "\u001b[34m2019-12-28 09:56:44,963 sagemaker-containers INFO     Generating MANIFEST.in\u001b[0m\n",
      "\u001b[34m2019-12-28 09:56:44,963 sagemaker-containers INFO     Installing module with the following command:\u001b[0m\n",
      "\u001b[34m/opt/conda/bin/python -m pip install . \u001b[0m\n",
      "\u001b[34mProcessing /opt/ml/code\u001b[0m\n",
      "\u001b[34mBuilding wheels for collected packages: trainer\n",
      "  Building wheel for trainer (setup.py): started\u001b[0m\n",
      "\u001b[34m  Building wheel for trainer (setup.py): finished with status 'done'\n",
      "  Created wheel for trainer: filename=trainer-1.0.0-py2.py3-none-any.whl size=22285 sha256=6ee731e73973a009b811aa5b3804c56a6d89fa76f470af2887ce1d277bcc2109\n",
      "  Stored in directory: /tmp/pip-ephem-wheel-cache-_0v0li6k/wheels/35/24/16/37574d11bf9bde50616c67372a334f94fa8356bc7164af8ca3\u001b[0m\n",
      "\u001b[34mSuccessfully built trainer\u001b[0m\n",
      "\u001b[34mInstalling collected packages: trainer\u001b[0m\n",
      "\u001b[34mSuccessfully installed trainer-1.0.0\u001b[0m\n",
      "\u001b[34mWARNING: You are using pip version 19.3; however, version 19.3.1 is available.\u001b[0m\n",
      "\u001b[34mYou should consider upgrading via the 'pip install --upgrade pip' command.\u001b[0m\n",
      "\u001b[34m2019-12-28 09:56:47,037 sagemaker-containers INFO     Invoking user script\n",
      "\u001b[0m\n",
      "\u001b[34mTraining Env:\n",
      "\u001b[0m\n",
      "\u001b[34m{\n",
      "    \"additional_framework_parameters\": {},\n",
      "    \"channel_input_dirs\": {\n",
      "        \"data_dir\": \"/opt/ml/input/data/data_dir\"\n",
      "    },\n",
      "    \"current_host\": \"algo-1\",\n",
      "    \"framework_module\": \"sagemaker_pytorch_container.training:main\",\n",
      "    \"hosts\": [\n",
      "        \"algo-1\"\n",
      "    ],\n",
      "    \"hyperparameters\": {\n",
      "        \"batch-size\": 1024,\n",
      "        \"seq-len\": 128,\n",
      "        \"n-epochs\": 16,\n",
      "        \"hidden-dim\": 64\n",
      "    },\n",
      "    \"input_config_dir\": \"/opt/ml/input/config\",\n",
      "    \"input_data_config\": {\n",
      "        \"data_dir\": {\n",
      "            \"TrainingInputMode\": \"File\",\n",
      "            \"S3DistributionType\": \"FullyReplicated\",\n",
      "            \"RecordWrapperType\": \"None\"\n",
      "        }\n",
      "    },\n",
      "    \"input_dir\": \"/opt/ml/input\",\n",
      "    \"is_master\": true,\n",
      "    \"job_name\": \"pytorch-training-2019-12-28-09-50-49-936\",\n",
      "    \"log_level\": 20,\n",
      "    \"master_hostname\": \"algo-1\",\n",
      "    \"model_dir\": \"/opt/ml/model\",\n",
      "    \"module_dir\": \"s3://sagemaker-ap-northeast-1-350554891105/pytorch-training-2019-12-28-09-50-49-936/source/sourcedir.tar.gz\",\n",
      "    \"module_name\": \"trainer\",\n",
      "    \"network_interface_name\": \"eth0\",\n",
      "    \"num_cpus\": 4,\n",
      "    \"num_gpus\": 1,\n",
      "    \"output_data_dir\": \"/opt/ml/output/data\",\n",
      "    \"output_dir\": \"/opt/ml/output\",\n",
      "    \"output_intermediate_dir\": \"/opt/ml/output/intermediate\",\n",
      "    \"resource_config\": {\n",
      "        \"current_host\": \"algo-1\",\n",
      "        \"hosts\": [\n",
      "            \"algo-1\"\n",
      "        ],\n",
      "        \"network_interface_name\": \"eth0\"\n",
      "    },\n",
      "    \"user_entry_point\": \"trainer.py\"\u001b[0m\n",
      "\u001b[34m}\n",
      "\u001b[0m\n",
      "\u001b[34mEnvironment variables:\n",
      "\u001b[0m\n",
      "\u001b[34mSM_HOSTS=[\"algo-1\"]\u001b[0m\n",
      "\u001b[34mSM_NETWORK_INTERFACE_NAME=eth0\u001b[0m\n",
      "\u001b[34mSM_HPS={\"batch-size\":1024,\"hidden-dim\":64,\"n-epochs\":16,\"seq-len\":128}\u001b[0m\n",
      "\u001b[34mSM_USER_ENTRY_POINT=trainer.py\u001b[0m\n",
      "\u001b[34mSM_FRAMEWORK_PARAMS={}\u001b[0m\n",
      "\u001b[34mSM_RESOURCE_CONFIG={\"current_host\":\"algo-1\",\"hosts\":[\"algo-1\"],\"network_interface_name\":\"eth0\"}\u001b[0m\n",
      "\u001b[34mSM_INPUT_DATA_CONFIG={\"data_dir\":{\"RecordWrapperType\":\"None\",\"S3DistributionType\":\"FullyReplicated\",\"TrainingInputMode\":\"File\"}}\u001b[0m\n",
      "\u001b[34mSM_OUTPUT_DATA_DIR=/opt/ml/output/data\u001b[0m\n",
      "\u001b[34mSM_CHANNELS=[\"data_dir\"]\u001b[0m\n",
      "\u001b[34mSM_CURRENT_HOST=algo-1\u001b[0m\n",
      "\u001b[34mSM_MODULE_NAME=trainer\u001b[0m\n",
      "\u001b[34mSM_LOG_LEVEL=20\u001b[0m\n",
      "\u001b[34mSM_FRAMEWORK_MODULE=sagemaker_pytorch_container.training:main\u001b[0m\n",
      "\u001b[34mSM_INPUT_DIR=/opt/ml/input\u001b[0m\n",
      "\u001b[34mSM_INPUT_CONFIG_DIR=/opt/ml/input/config\u001b[0m\n",
      "\u001b[34mSM_OUTPUT_DIR=/opt/ml/output\u001b[0m\n",
      "\u001b[34mSM_NUM_CPUS=4\u001b[0m\n",
      "\u001b[34mSM_NUM_GPUS=1\u001b[0m\n",
      "\u001b[34mSM_MODEL_DIR=/opt/ml/model\u001b[0m\n",
      "\u001b[34mSM_MODULE_DIR=s3://sagemaker-ap-northeast-1-350554891105/pytorch-training-2019-12-28-09-50-49-936/source/sourcedir.tar.gz\u001b[0m\n",
      "\u001b[34mSM_TRAINING_ENV={\"additional_framework_parameters\":{},\"channel_input_dirs\":{\"data_dir\":\"/opt/ml/input/data/data_dir\"},\"current_host\":\"algo-1\",\"framework_module\":\"sagemaker_pytorch_container.training:main\",\"hosts\":[\"algo-1\"],\"hyperparameters\":{\"batch-size\":1024,\"hidden-dim\":64,\"n-epochs\":16,\"seq-len\":128},\"input_config_dir\":\"/opt/ml/input/config\",\"input_data_config\":{\"data_dir\":{\"RecordWrapperType\":\"None\",\"S3DistributionType\":\"FullyReplicated\",\"TrainingInputMode\":\"File\"}},\"input_dir\":\"/opt/ml/input\",\"is_master\":true,\"job_name\":\"pytorch-training-2019-12-28-09-50-49-936\",\"log_level\":20,\"master_hostname\":\"algo-1\",\"model_dir\":\"/opt/ml/model\",\"module_dir\":\"s3://sagemaker-ap-northeast-1-350554891105/pytorch-training-2019-12-28-09-50-49-936/source/sourcedir.tar.gz\",\"module_name\":\"trainer\",\"network_interface_name\":\"eth0\",\"num_cpus\":4,\"num_gpus\":1,\"output_data_dir\":\"/opt/ml/output/data\",\"output_dir\":\"/opt/ml/output\",\"output_intermediate_dir\":\"/opt/ml/output/intermediate\",\"resource_config\":{\"current_host\":\"algo-1\",\"hosts\":[\"algo-1\"],\"network_interface_name\":\"eth0\"},\"user_entry_point\":\"trainer.py\"}\u001b[0m\n",
      "\u001b[34mSM_USER_ARGS=[\"--batch-size\",\"1024\",\"--hidden-dim\",\"64\",\"--n-epochs\",\"16\",\"--seq-len\",\"128\"]\u001b[0m\n",
      "\u001b[34mSM_OUTPUT_INTERMEDIATE_DIR=/opt/ml/output/intermediate\u001b[0m\n",
      "\u001b[34mSM_CHANNEL_DATA_DIR=/opt/ml/input/data/data_dir\u001b[0m\n",
      "\u001b[34mSM_HP_BATCH-SIZE=1024\u001b[0m\n",
      "\u001b[34mSM_HP_SEQ-LEN=128\u001b[0m\n",
      "\u001b[34mSM_HP_N-EPOCHS=16\u001b[0m\n",
      "\u001b[34mSM_HP_HIDDEN-DIM=64\u001b[0m\n",
      "\u001b[34mPYTHONPATH=/opt/conda/bin:/opt/conda/lib/python36.zip:/opt/conda/lib/python3.6:/opt/conda/lib/python3.6/lib-dynload:/opt/conda/lib/python3.6/site-packages\n",
      "\u001b[0m\n",
      "\u001b[34mInvoking script with the following command:\n",
      "\u001b[0m\n",
      "\u001b[34m/opt/conda/bin/python -m trainer --batch-size 1024 --hidden-dim 64 --n-epochs 16 --seq-len 128\n",
      "\n",
      "\u001b[0m\n",
      "\u001b[34mUsing device cuda.\u001b[0m\n",
      "\u001b[34m| epoch | trai loss | vali loss | time/s |\u001b[0m\n",
      "\u001b[34m| ----: | --------- | --------- | -----: |\u001b[0m\n",
      "\u001b[34m|     0 | 8.177e-02 | 3.026e-03 |      7 |\u001b[0m\n",
      "\u001b[34m|     1 | 3.729e-04 | 1.316e-03 |      7 |\u001b[0m\n",
      "\u001b[34m|     2 | 1.842e-04 | 8.306e-04 |      7 |\u001b[0m\n",
      "\u001b[34m|     3 | 1.323e-04 | 6.328e-04 |      7 |\u001b[0m\n",
      "\u001b[34m|     4 | 1.113e-04 | 6.075e-04 |      7 |\u001b[0m\n",
      "\u001b[34m|     5 | 1.061e-04 | 5.921e-04 |      7 |\u001b[0m\n",
      "\u001b[34m|     6 | 1.031e-04 | 5.760e-04 |      7 |\u001b[0m\n",
      "\u001b[34m|     7 | 1.004e-04 | 5.591e-04 |      7 |\u001b[0m\n",
      "\u001b[34m|     8 | 9.737e-05 | 5.562e-04 |      7 |\u001b[0m\n",
      "\u001b[34m|     9 | 9.618e-05 | 5.542e-04 |      7 |\u001b[0m\n",
      "\u001b[34m|    10 | 9.576e-05 | 5.513e-04 |      7 |\u001b[0m\n",
      "\u001b[34m|    11 | 9.539e-05 | 5.480e-04 |      7 |\u001b[0m\n",
      "\u001b[34m|    12 | 9.466e-05 | 5.489e-04 |      7 |\u001b[0m\n",
      "\u001b[34m|    13 | 9.455e-05 | 5.485e-04 |      7 |\u001b[0m\n",
      "\n",
      "2019-12-28 09:58:54 Uploading - Uploading generated training model\u001b[34m|    14 | 9.449e-05 | 5.480e-04 |      7 |\u001b[0m\n",
      "\u001b[34m|    15 | 9.443e-05 | 5.476e-04 |      7 |\u001b[0m\n",
      "\u001b[34m2019-12-28 09:58:54,071 sagemaker-containers INFO     Reporting training SUCCESS\u001b[0m\n",
      "\n",
      "2019-12-28 09:59:01 Completed - Training job completed\n",
      "Training seconds: 328\n",
      "Billable seconds: 328\n"
     ]
    }
   ],
   "source": [
    "estimator = PyTorch(\n",
    "    source_dir=\"lstm_trader\",\n",
    "    entry_point=\"trainer.py\",\n",
    "    hyperparameters={\n",
    "        \"seq-len\": 128,\n",
    "        \"hidden-dim\": 64,\n",
    "        \"n-epochs\": 16,\n",
    "        \"batch-size\": 1024,\n",
    "    },\n",
    "    framework_version=\"1.2.0\",\n",
    "    role=role,\n",
    "    sagemaker_session=sagemaker_session,\n",
    "    train_instance_count=1,\n",
    "    train_instance_type=\"ml.p2.xlarge\",\n",
    ")\n",
    "\n",
    "estimator.fit({\"data_dir\": inputs})"
   ]
  },
  {
   "cell_type": "code",
   "execution_count": 6,
   "metadata": {},
   "outputs": [],
   "source": [
    "sagemaker_session.download_data(\n",
    "    path=output_dir,\n",
    "    bucket=bucket,\n",
    "    key_prefix=estimator.latest_training_job.name + \"/output/output.tar.gz\",\n",
    ")\n",
    "sagemaker_session.download_data(\n",
    "    path=model_dir,\n",
    "    bucket=bucket,\n",
    "    key_prefix=estimator.latest_training_job.name + \"/output/model.tar.gz\",\n",
    ")\n",
    "!tar xvf cache_output/output.tar.gz --directory=cache_output\n",
    "!tar xvf cache_model/model.tar.gz --directory=cache_model"
   ]
  },
  {
   "cell_type": "markdown",
   "metadata": {},
   "source": [
    "# Evaluation"
   ]
  },
  {
   "cell_type": "code",
   "execution_count": 3,
   "metadata": {},
   "outputs": [
    {
     "data": {
      "image/png": "[encoded data removed]",
      "text/plain": [
       "<Figure size 432x288 with 2 Axes>"
      ]
     },
     "metadata": {
      "needs_background": "light"
     },
     "output_type": "display_data"
    }
   ],
   "source": [
    "evaluate(input_dir, model_dir, seq_len=128)"
   ]
  }
 ],
 "metadata": {
  "kernelspec": {
   "display_name": "'Python Interactive'",
   "language": "python",
   "name": "f3d09be5-6d42-4504-9cd4-59a0ed4b6d6e"
  },
  "language_info": {
   "codemirror_mode": {
    "name": "ipython",
    "version": 3
   },
   "file_extension": ".py",
   "mimetype": "text/x-python",
   "name": "python",
   "nbconvert_exporter": "python",
   "pygments_lexer": "ipython3",
   "version": "3.8.1"
  }
 },
 "nbformat": 4,
 "nbformat_minor": 4
}
