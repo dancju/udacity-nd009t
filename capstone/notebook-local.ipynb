{
 "cells": [
  {
   "cell_type": "code",
   "execution_count": 1,
   "metadata": {},
   "outputs": [],
   "source": [
    "%matplotlib inline\n",
    "%load_ext autoreload\n",
    "%autoreload 2\n",
    "import os\n",
    "import matplotlib.pyplot as plt\n",
    "import pandas as pd\n",
    "\n",
    "from src import fetch_bucketed_from_bitmex, preprocess, evaluate, train_linear, train_lstm\n",
    "\n",
    "input_dir = 'cache_input'\n",
    "model_dir = 'cache_model'\n",
    "output_dir = 'cache_output'"
   ]
  },
  {
   "cell_type": "markdown",
   "metadata": {},
   "source": [
    "# Crawling the Dataset"
   ]
  },
  {
   "cell_type": "code",
   "execution_count": 2,
   "metadata": {},
   "outputs": [],
   "source": [
    "# df = fetch_bucketed_from_bitmex('XBTZ19', '1m')"
   ]
  },
  {
   "cell_type": "code",
   "execution_count": 3,
   "metadata": {},
   "outputs": [],
   "source": [
    "df = pd.read_csv('cache_crawler/XBTZ19_1m.csv', index_col=\"timestamp\", parse_dates=True)"
   ]
  },
  {
   "cell_type": "markdown",
   "metadata": {},
   "source": [
    "# Feature Engineering"
   ]
  },
  {
   "cell_type": "code",
   "execution_count": 4,
   "metadata": {},
   "outputs": [],
   "source": [
    "preprocess(df, input_dir)"
   ]
  },
  {
   "cell_type": "code",
   "execution_count": 5,
   "metadata": {},
   "outputs": [
    {
     "data": {
      "text/html": [
       "<div>\n",
       "<style scoped>\n",
       "    .dataframe tbody tr th:only-of-type {\n",
       "        vertical-align: middle;\n",
       "    }\n",
       "\n",
       "    .dataframe tbody tr th {\n",
       "        vertical-align: top;\n",
       "    }\n",
       "\n",
       "    .dataframe thead th {\n",
       "        text-align: right;\n",
       "    }\n",
       "</style>\n",
       "<table border=\"1\" class=\"dataframe\">\n",
       "  <thead>\n",
       "    <tr style=\"text-align: right;\">\n",
       "      <th></th>\n",
       "      <th>vwap_log</th>\n",
       "      <th>high_log</th>\n",
       "      <th>low_log</th>\n",
       "      <th>close_log</th>\n",
       "      <th>trades</th>\n",
       "      <th>home_notional</th>\n",
       "      <th>foreign_notional</th>\n",
       "      <th>macd_12_26</th>\n",
       "      <th>macd_sign_12_26</th>\n",
       "      <th>macd_diff_12_26</th>\n",
       "      <th>rsi_14</th>\n",
       "      <th>vwap_log_diff</th>\n",
       "    </tr>\n",
       "  </thead>\n",
       "  <tbody>\n",
       "    <tr>\n",
       "      <th>count</th>\n",
       "      <td>169448.000000</td>\n",
       "      <td>169448.000000</td>\n",
       "      <td>169448.000000</td>\n",
       "      <td>169448.000000</td>\n",
       "      <td>169448.000000</td>\n",
       "      <td>169448.000000</td>\n",
       "      <td>169448.000000</td>\n",
       "      <td>169448.000000</td>\n",
       "      <td>169448.000000</td>\n",
       "      <td>169448.000000</td>\n",
       "      <td>169448.000000</td>\n",
       "      <td>169448.000000</td>\n",
       "    </tr>\n",
       "    <tr>\n",
       "      <th>mean</th>\n",
       "      <td>0.604254</td>\n",
       "      <td>0.604234</td>\n",
       "      <td>0.604264</td>\n",
       "      <td>0.604252</td>\n",
       "      <td>-0.013505</td>\n",
       "      <td>-0.016414</td>\n",
       "      <td>0.008812</td>\n",
       "      <td>0.001282</td>\n",
       "      <td>0.001376</td>\n",
       "      <td>-0.000039</td>\n",
       "      <td>-0.026199</td>\n",
       "      <td>0.000733</td>\n",
       "    </tr>\n",
       "    <tr>\n",
       "      <th>std</th>\n",
       "      <td>0.712585</td>\n",
       "      <td>0.712780</td>\n",
       "      <td>0.712397</td>\n",
       "      <td>0.712588</td>\n",
       "      <td>0.906300</td>\n",
       "      <td>0.696612</td>\n",
       "      <td>0.828831</td>\n",
       "      <td>1.186409</td>\n",
       "      <td>1.186310</td>\n",
       "      <td>1.187042</td>\n",
       "      <td>0.981247</td>\n",
       "      <td>1.116070</td>\n",
       "    </tr>\n",
       "    <tr>\n",
       "      <th>min</th>\n",
       "      <td>-1.106937</td>\n",
       "      <td>-1.099545</td>\n",
       "      <td>-1.133254</td>\n",
       "      <td>-1.113737</td>\n",
       "      <td>-0.506434</td>\n",
       "      <td>-0.237273</td>\n",
       "      <td>-0.269087</td>\n",
       "      <td>-40.447757</td>\n",
       "      <td>-33.061488</td>\n",
       "      <td>-58.308665</td>\n",
       "      <td>-2.015079</td>\n",
       "      <td>-80.588247</td>\n",
       "    </tr>\n",
       "    <tr>\n",
       "      <th>25%</th>\n",
       "      <td>0.241116</td>\n",
       "      <td>0.240551</td>\n",
       "      <td>0.242080</td>\n",
       "      <td>0.241282</td>\n",
       "      <td>-0.441604</td>\n",
       "      <td>-0.231462</td>\n",
       "      <td>-0.261797</td>\n",
       "      <td>-0.344125</td>\n",
       "      <td>-0.345104</td>\n",
       "      <td>-0.394573</td>\n",
       "      <td>-0.801111</td>\n",
       "      <td>-0.246042</td>\n",
       "    </tr>\n",
       "    <tr>\n",
       "      <th>50%</th>\n",
       "      <td>0.664070</td>\n",
       "      <td>0.663047</td>\n",
       "      <td>0.664933</td>\n",
       "      <td>0.664087</td>\n",
       "      <td>-0.290332</td>\n",
       "      <td>-0.185012</td>\n",
       "      <td>-0.202731</td>\n",
       "      <td>-0.001176</td>\n",
       "      <td>-0.001315</td>\n",
       "      <td>-0.006836</td>\n",
       "      <td>-0.039461</td>\n",
       "      <td>0.000520</td>\n",
       "    </tr>\n",
       "    <tr>\n",
       "      <th>75%</th>\n",
       "      <td>1.055247</td>\n",
       "      <td>1.056898</td>\n",
       "      <td>1.054457</td>\n",
       "      <td>1.055372</td>\n",
       "      <td>0.055433</td>\n",
       "      <td>-0.036472</td>\n",
       "      <td>-0.012981</td>\n",
       "      <td>0.380826</td>\n",
       "      <td>0.382137</td>\n",
       "      <td>0.382304</td>\n",
       "      <td>0.743462</td>\n",
       "      <td>0.248850</td>\n",
       "    </tr>\n",
       "    <tr>\n",
       "      <th>max</th>\n",
       "      <td>2.563005</td>\n",
       "      <td>2.580954</td>\n",
       "      <td>2.563092</td>\n",
       "      <td>2.584123</td>\n",
       "      <td>23.502580</td>\n",
       "      <td>65.508553</td>\n",
       "      <td>67.863748</td>\n",
       "      <td>17.122046</td>\n",
       "      <td>16.328480</td>\n",
       "      <td>26.221021</td>\n",
       "      <td>2.014212</td>\n",
       "      <td>25.581883</td>\n",
       "    </tr>\n",
       "  </tbody>\n",
       "</table>\n",
       "</div>"
      ],
      "text/plain": [
       "            vwap_log       high_log        low_log      close_log  \\\n",
       "count  169448.000000  169448.000000  169448.000000  169448.000000   \n",
       "mean        0.604254       0.604234       0.604264       0.604252   \n",
       "std         0.712585       0.712780       0.712397       0.712588   \n",
       "min        -1.106937      -1.099545      -1.133254      -1.113737   \n",
       "25%         0.241116       0.240551       0.242080       0.241282   \n",
       "50%         0.664070       0.663047       0.664933       0.664087   \n",
       "75%         1.055247       1.056898       1.054457       1.055372   \n",
       "max         2.563005       2.580954       2.563092       2.584123   \n",
       "\n",
       "              trades  home_notional  foreign_notional     macd_12_26  \\\n",
       "count  169448.000000  169448.000000     169448.000000  169448.000000   \n",
       "mean       -0.013505      -0.016414          0.008812       0.001282   \n",
       "std         0.906300       0.696612          0.828831       1.186409   \n",
       "min        -0.506434      -0.237273         -0.269087     -40.447757   \n",
       "25%        -0.441604      -0.231462         -0.261797      -0.344125   \n",
       "50%        -0.290332      -0.185012         -0.202731      -0.001176   \n",
       "75%         0.055433      -0.036472         -0.012981       0.380826   \n",
       "max        23.502580      65.508553         67.863748      17.122046   \n",
       "\n",
       "       macd_sign_12_26  macd_diff_12_26         rsi_14  vwap_log_diff  \n",
       "count    169448.000000    169448.000000  169448.000000  169448.000000  \n",
       "mean          0.001376        -0.000039      -0.026199       0.000733  \n",
       "std           1.186310         1.187042       0.981247       1.116070  \n",
       "min         -33.061488       -58.308665      -2.015079     -80.588247  \n",
       "25%          -0.345104        -0.394573      -0.801111      -0.246042  \n",
       "50%          -0.001315        -0.006836      -0.039461       0.000520  \n",
       "75%           0.382137         0.382304       0.743462       0.248850  \n",
       "max          16.328480        26.221021       2.014212      25.581883  "
      ]
     },
     "execution_count": 5,
     "metadata": {},
     "output_type": "execute_result"
    }
   ],
   "source": [
    "pd.read_csv('cache_input/trai_x.csv', index_col=\"timestamp\", parse_dates=True).describe()"
   ]
  },
  {
   "cell_type": "markdown",
   "metadata": {},
   "source": [
    "# Training"
   ]
  },
  {
   "cell_type": "markdown",
   "metadata": {},
   "source": [
    "### Benchmark: Linear Model"
   ]
  },
  {
   "cell_type": "code",
   "execution_count": 6,
   "metadata": {},
   "outputs": [
    {
     "name": "stdout",
     "output_type": "stream",
     "text": [
      "Using device cpu.\n",
      "| epoch | trai loss | vali loss | time/s |\n",
      "| ----: | --------- | --------- | -----: |\n",
      "|     0 | 1.225e+00 | 6.123e-01 |      0 |\n",
      "|     1 | 1.204e+00 | 6.068e-01 |      0 |\n",
      "|     2 | 1.201e+00 | 6.062e-01 |      0 |\n",
      "|     3 | 1.201e+00 | 6.063e-01 |      0 |\n",
      "|     4 | 1.200e+00 | 6.056e-01 |      0 |\n",
      "|     5 | 1.199e+00 | 6.053e-01 |      0 |\n",
      "|     6 | 1.198e+00 | 6.052e-01 |      0 |\n",
      "|     7 | 1.197e+00 | 6.052e-01 |      0 |\n",
      "|     8 | 1.197e+00 | 6.053e-01 |      0 |\n",
      "|     9 | 1.197e+00 | 6.054e-01 |      0 |\n",
      "|    10 | 1.197e+00 | 6.054e-01 |      0 |\n",
      "|    11 | 1.197e+00 | 6.054e-01 |      0 |\n",
      "|    12 | 1.197e+00 | 6.054e-01 |      0 |\n",
      "|    13 | 1.197e+00 | 6.054e-01 |      0 |\n",
      "|    14 | 1.197e+00 | 6.054e-01 |      0 |\n",
      "|    15 | 1.197e+00 | 6.055e-01 |      0 |\n",
      "loss of trai is 1.197e+00\n",
      "loss of vali is 6.055e-01\n",
      "loss of test is 5.968e-01\n"
     ]
    }
   ],
   "source": [
    "train_linear(\n",
    "    input_dir=input_dir,\n",
    "    output_dir=output_dir,\n",
    "    model_dir=model_dir,\n",
    "    hidden_dim=64,\n",
    "    lr=1e-3,\n",
    "    batch_size=1024,\n",
    "    n_epochs=16,\n",
    ")"
   ]
  },
  {
   "cell_type": "markdown",
   "metadata": {},
   "source": [
    "### Solution: LSTM Model"
   ]
  },
  {
   "cell_type": "code",
   "execution_count": 15,
   "metadata": {},
   "outputs": [],
   "source": [
    "train_lstm(\n",
    "    input_dir=input_dir,\n",
    "    output_dir=output_dir,\n",
    "    model_dir=model_dir,\n",
    "    hidden_dim=256,\n",
    "    lstm_layers=2,\n",
    "    dropout=0.1,\n",
    "    lr=1e-3,\n",
    "    batch_size=1024,\n",
    "    n_epochs=16,\n",
    ")"
   ]
  },
  {
   "cell_type": "markdown",
   "metadata": {},
   "source": [
    "# Evaluation"
   ]
  },
  {
   "cell_type": "code",
   "execution_count": 13,
   "metadata": {},
   "outputs": [
    {
     "data": {
      "image/png": "[encoded data removed]",
      "text/plain": [
       "<Figure size 1152x648 with 2 Axes>"
      ]
     },
     "metadata": {
      "needs_background": "light"
     },
     "output_type": "display_data"
    }
   ],
   "source": [
    "evaluate(input_dir, output_dir)"
   ]
  }
 ],
 "metadata": {
  "kernelspec": {
   "display_name": "Python 3",
   "language": "python",
   "name": "python3"
  },
  "language_info": {
   "codemirror_mode": {
    "name": "ipython",
    "version": 3
   },
   "file_extension": ".py",
   "mimetype": "text/x-python",
   "name": "python",
   "nbconvert_exporter": "python",
   "pygments_lexer": "ipython3",
   "version": "3.8.1"
  }
 },
 "nbformat": 4,
 "nbformat_minor": 4
}
