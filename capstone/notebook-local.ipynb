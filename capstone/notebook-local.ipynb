{
 "cells": [
  {
   "cell_type": "code",
   "execution_count": 1,
   "metadata": {},
   "outputs": [],
   "source": [
    "%load_ext autoreload\n",
    "%autoreload 2\n",
    "\n",
    "import os\n",
    "import matplotlib.pyplot as plt\n",
    "import pandas as pd\n",
    "\n",
    "from src import fetch_bucketed_from_bitmex, preprocess, evaluate\n",
    "\n",
    "input_dir = 'cache_input'\n",
    "model_dir = 'cache_model'\n",
    "output_dir = 'cache_output'"
   ]
  },
  {
   "cell_type": "markdown",
   "metadata": {},
   "source": [
    "# Crawling the Dataset"
   ]
  },
  {
   "cell_type": "code",
   "execution_count": 2,
   "metadata": {},
   "outputs": [
    {
     "data": {
      "text/html": [
       "<div>\n",
       "<style scoped>\n",
       "    .dataframe tbody tr th:only-of-type {\n",
       "        vertical-align: middle;\n",
       "    }\n",
       "\n",
       "    .dataframe tbody tr th {\n",
       "        vertical-align: top;\n",
       "    }\n",
       "\n",
       "    .dataframe thead th {\n",
       "        text-align: right;\n",
       "    }\n",
       "</style>\n",
       "<table border=\"1\" class=\"dataframe\">\n",
       "  <thead>\n",
       "    <tr style=\"text-align: right;\">\n",
       "      <th></th>\n",
       "      <th>close</th>\n",
       "      <th>foreignNotional</th>\n",
       "      <th>high</th>\n",
       "      <th>homeNotional</th>\n",
       "      <th>lastSize</th>\n",
       "      <th>low</th>\n",
       "      <th>open</th>\n",
       "      <th>trades</th>\n",
       "      <th>turnover</th>\n",
       "      <th>volume</th>\n",
       "      <th>vwap</th>\n",
       "    </tr>\n",
       "  </thead>\n",
       "  <tbody>\n",
       "    <tr>\n",
       "      <th>count</th>\n",
       "      <td>282449.000000</td>\n",
       "      <td>2.824510e+05</td>\n",
       "      <td>282449.000000</td>\n",
       "      <td>282451.000000</td>\n",
       "      <td>2.439640e+05</td>\n",
       "      <td>282449.000000</td>\n",
       "      <td>282449.000000</td>\n",
       "      <td>282451.000000</td>\n",
       "      <td>2.824510e+05</td>\n",
       "      <td>2.824510e+05</td>\n",
       "      <td>243964.000000</td>\n",
       "    </tr>\n",
       "    <tr>\n",
       "      <th>mean</th>\n",
       "      <td>9499.875292</td>\n",
       "      <td>3.691479e+04</td>\n",
       "      <td>9502.965474</td>\n",
       "      <td>3.947867</td>\n",
       "      <td>1.869157e+03</td>\n",
       "      <td>9496.680638</td>\n",
       "      <td>9499.880114</td>\n",
       "      <td>23.434890</td>\n",
       "      <td>3.947867e+08</td>\n",
       "      <td>3.691479e+04</td>\n",
       "      <td>9558.337851</td>\n",
       "    </tr>\n",
       "    <tr>\n",
       "      <th>std</th>\n",
       "      <td>1621.172019</td>\n",
       "      <td>1.371855e+05</td>\n",
       "      <td>1622.742756</td>\n",
       "      <td>16.638510</td>\n",
       "      <td>8.425148e+04</td>\n",
       "      <td>1619.518913</td>\n",
       "      <td>1621.167020</td>\n",
       "      <td>46.274287</td>\n",
       "      <td>1.663851e+09</td>\n",
       "      <td>1.371855e+05</td>\n",
       "      <td>1632.991936</td>\n",
       "    </tr>\n",
       "    <tr>\n",
       "      <th>min</th>\n",
       "      <td>6438.000000</td>\n",
       "      <td>0.000000e+00</td>\n",
       "      <td>6443.500000</td>\n",
       "      <td>0.000000</td>\n",
       "      <td>1.000000e+00</td>\n",
       "      <td>6431.000000</td>\n",
       "      <td>6438.000000</td>\n",
       "      <td>0.000000</td>\n",
       "      <td>0.000000e+00</td>\n",
       "      <td>0.000000e+00</td>\n",
       "      <td>6432.522800</td>\n",
       "    </tr>\n",
       "    <tr>\n",
       "      <th>25%</th>\n",
       "      <td>8158.000000</td>\n",
       "      <td>6.050000e+02</td>\n",
       "      <td>8159.500000</td>\n",
       "      <td>0.067004</td>\n",
       "      <td>5.000000e+01</td>\n",
       "      <td>8157.000000</td>\n",
       "      <td>8158.000000</td>\n",
       "      <td>2.000000</td>\n",
       "      <td>6.700365e+06</td>\n",
       "      <td>6.050000e+02</td>\n",
       "      <td>8180.628300</td>\n",
       "    </tr>\n",
       "    <tr>\n",
       "      <th>50%</th>\n",
       "      <td>9542.500000</td>\n",
       "      <td>7.336000e+03</td>\n",
       "      <td>9546.000000</td>\n",
       "      <td>0.779511</td>\n",
       "      <td>3.400000e+02</td>\n",
       "      <td>9540.000000</td>\n",
       "      <td>9542.500000</td>\n",
       "      <td>10.000000</td>\n",
       "      <td>7.795113e+07</td>\n",
       "      <td>7.336000e+03</td>\n",
       "      <td>9589.566600</td>\n",
       "    </tr>\n",
       "    <tr>\n",
       "      <th>75%</th>\n",
       "      <td>10616.500000</td>\n",
       "      <td>3.208350e+04</td>\n",
       "      <td>10619.500000</td>\n",
       "      <td>3.365414</td>\n",
       "      <td>1.321000e+03</td>\n",
       "      <td>10614.000000</td>\n",
       "      <td>10616.500000</td>\n",
       "      <td>26.000000</td>\n",
       "      <td>3.365414e+08</td>\n",
       "      <td>3.208350e+04</td>\n",
       "      <td>10656.436500</td>\n",
       "    </tr>\n",
       "    <tr>\n",
       "      <th>max</th>\n",
       "      <td>14600.000000</td>\n",
       "      <td>4.193417e+07</td>\n",
       "      <td>14600.000000</td>\n",
       "      <td>5874.536073</td>\n",
       "      <td>4.154957e+07</td>\n",
       "      <td>14539.000000</td>\n",
       "      <td>14600.000000</td>\n",
       "      <td>1529.000000</td>\n",
       "      <td>5.874536e+11</td>\n",
       "      <td>4.193417e+07</td>\n",
       "      <td>14547.570600</td>\n",
       "    </tr>\n",
       "  </tbody>\n",
       "</table>\n",
       "</div>"
      ],
      "text/plain": [
       "               close  foreignNotional           high   homeNotional  \\\n",
       "count  282449.000000     2.824510e+05  282449.000000  282451.000000   \n",
       "mean     9499.875292     3.691479e+04    9502.965474       3.947867   \n",
       "std      1621.172019     1.371855e+05    1622.742756      16.638510   \n",
       "min      6438.000000     0.000000e+00    6443.500000       0.000000   \n",
       "25%      8158.000000     6.050000e+02    8159.500000       0.067004   \n",
       "50%      9542.500000     7.336000e+03    9546.000000       0.779511   \n",
       "75%     10616.500000     3.208350e+04   10619.500000       3.365414   \n",
       "max     14600.000000     4.193417e+07   14600.000000    5874.536073   \n",
       "\n",
       "           lastSize            low           open         trades  \\\n",
       "count  2.439640e+05  282449.000000  282449.000000  282451.000000   \n",
       "mean   1.869157e+03    9496.680638    9499.880114      23.434890   \n",
       "std    8.425148e+04    1619.518913    1621.167020      46.274287   \n",
       "min    1.000000e+00    6431.000000    6438.000000       0.000000   \n",
       "25%    5.000000e+01    8157.000000    8158.000000       2.000000   \n",
       "50%    3.400000e+02    9540.000000    9542.500000      10.000000   \n",
       "75%    1.321000e+03   10614.000000   10616.500000      26.000000   \n",
       "max    4.154957e+07   14539.000000   14600.000000    1529.000000   \n",
       "\n",
       "           turnover        volume           vwap  \n",
       "count  2.824510e+05  2.824510e+05  243964.000000  \n",
       "mean   3.947867e+08  3.691479e+04    9558.337851  \n",
       "std    1.663851e+09  1.371855e+05    1632.991936  \n",
       "min    0.000000e+00  0.000000e+00    6432.522800  \n",
       "25%    6.700365e+06  6.050000e+02    8180.628300  \n",
       "50%    7.795113e+07  7.336000e+03    9589.566600  \n",
       "75%    3.365414e+08  3.208350e+04   10656.436500  \n",
       "max    5.874536e+11  4.193417e+07   14547.570600  "
      ]
     },
     "execution_count": 2,
     "metadata": {},
     "output_type": "execute_result"
    }
   ],
   "source": [
    "# df = fetch_bucketed_from_bitmex('XBTZ19', '1m')\n",
    "df = pd.read_csv('cache_crawler/XBTZ19_1m.csv', index_col=\"timestamp\", parse_dates=True)\n",
    "df.describe()"
   ]
  },
  {
   "cell_type": "markdown",
   "metadata": {},
   "source": [
    "# Feature Engineering"
   ]
  },
  {
   "cell_type": "code",
   "execution_count": 3,
   "metadata": {},
   "outputs": [],
   "source": [
    "preprocess(df, input_dir)"
   ]
  },
  {
   "cell_type": "markdown",
   "metadata": {},
   "source": [
    "# Training"
   ]
  },
  {
   "cell_type": "code",
   "execution_count": 4,
   "metadata": {},
   "outputs": [
    {
     "name": "stdout",
     "output_type": "stream",
     "text": [
      "Using device cpu.\n",
      "| epoch | trai loss | vali loss | time/s |\n",
      "| ----: | --------- | --------- | -----: |\n",
      "|     0 | 3.676e-01 | 3.535e-02 |      0 |\n",
      "|     1 | 1.333e-01 | 2.267e-03 |      0 |\n",
      "|     2 | 3.048e-02 | 1.935e-03 |      0 |\n",
      "|     3 | 1.713e-02 | 4.360e-03 |      0 |\n"
     ]
    }
   ],
   "source": [
    "from src.trainer_linear import train\n",
    "\n",
    "train(\n",
    "    input_dir=input_dir,\n",
    "    output_dir=output_dir,\n",
    "    model_dir=model_dir,\n",
    "    hidden_dim=64,\n",
    "    lr=1e-3,\n",
    "    batch_size=1024,\n",
    "    n_epochs=4,\n",
    ")"
   ]
  },
  {
   "cell_type": "code",
   "execution_count": 5,
   "metadata": {},
   "outputs": [
    {
     "name": "stdout",
     "output_type": "stream",
     "text": [
      "Using device cpu.\n",
      "| epoch | trai loss | vali loss | time/s |\n",
      "| ----: | --------- | --------- | -----: |\n",
      "|     0 | 2.189e-01 | 2.414e-02 |     40 |\n",
      "|     1 | 1.904e-02 | 5.068e-03 |     40 |\n",
      "|     2 | 6.699e-03 | 5.035e-03 |     40 |\n",
      "|     3 | 2.380e-03 | 4.607e-03 |     41 |\n"
     ]
    }
   ],
   "source": [
    "from src.trainer_lstm import train\n",
    "\n",
    "train(\n",
    "    input_dir=input_dir,\n",
    "    output_dir=output_dir,\n",
    "    model_dir=model_dir,\n",
    "    hidden_dim=64,\n",
    "    lstm_layers=1,\n",
    "    dropout=0,\n",
    "    lr=1e-3,\n",
    "    batch_size=1024,\n",
    "    n_epochs=4,\n",
    ")"
   ]
  },
  {
   "cell_type": "code",
   "execution_count": 6,
   "metadata": {},
   "outputs": [
    {
     "name": "stdout",
     "output_type": "stream",
     "text": [
      "Using device cpu.\n",
      "| epoch | trai loss | vali loss | time/s |\n",
      "| ----: | --------- | --------- | -----: |\n",
      "|     0 | 1.212e+00 | 6.064e-01 |     39 |\n",
      "|     1 | 1.183e+00 | 5.995e-01 |     40 |\n",
      "|     2 | 1.166e+00 | 5.955e-01 |     45 |\n",
      "|     3 | 1.156e+00 | 5.944e-01 |     45 |\n"
     ]
    }
   ],
   "source": [
    "from src.trainer_lstmratio import train\n",
    "\n",
    "train(\n",
    "    input_dir=input_dir,\n",
    "    output_dir=output_dir,\n",
    "    model_dir=model_dir,\n",
    "    hidden_dim=64,\n",
    "    lstm_layers=1,\n",
    "    dropout=0,\n",
    "    lr=1e-3,\n",
    "    batch_size=1024,\n",
    "    n_epochs=4,\n",
    ")"
   ]
  },
  {
   "cell_type": "markdown",
   "metadata": {},
   "source": [
    "# Evaluation"
   ]
  },
  {
   "cell_type": "code",
   "execution_count": 7,
   "metadata": {},
   "outputs": [],
   "source": [
    "evaluate(input_dir, output_dir)"
   ]
  }
 ],
 "metadata": {
  "kernelspec": {
   "display_name": "Python 3",
   "language": "python",
   "name": "python3"
  },
  "language_info": {
   "codemirror_mode": {
    "name": "ipython",
    "version": 3
   },
   "file_extension": ".py",
   "mimetype": "text/x-python",
   "name": "python",
   "nbconvert_exporter": "python",
   "pygments_lexer": "ipython3",
   "version": "3.8.1"
  }
 },
 "nbformat": 4,
 "nbformat_minor": 4
}
